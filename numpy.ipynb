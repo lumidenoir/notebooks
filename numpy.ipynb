{
 "cells": [
  {
   "attachments": {},
   "cell_type": "markdown",
   "metadata": {},
   "source": [
    "## Checking the time taken by numpy library and loops\n",
    "### Initializing matrices and importing modules"
   ]
  },
  {
   "cell_type": "code",
   "execution_count": 27,
   "metadata": {},
   "outputs": [],
   "source": [
    "import time as T\n",
    "import numpy as np\n",
    "raw_1=np.random.randint(25, size=(10,10))\n",
    "raw_2=np.random.randint(25, size=(10,10))\n",
    "array_1=np.array(raw_1)\n",
    "array_2=np.array(raw_2)\n",
    "add=np.zeros((10,10))\n",
    "multiply=np.zeros((10,10))"
   ]
  },
  {
   "attachments": {},
   "cell_type": "markdown",
   "metadata": {},
   "source": [
    "### Function defining "
   ]
  },
  {
   "cell_type": "code",
   "execution_count": 28,
   "metadata": {},
   "outputs": [],
   "source": [
    "def addMatrix(A,B):\n",
    "    for i in range(len(A)):\n",
    "        for j in range(len(A)):\n",
    "            add[i][j] = A[i][j] + B[i][j]\n",
    "    return print(\"addition using loops\\n\", add)\n",
    "\n",
    "def multiMatrix(A, B):\n",
    "    for i in range(len(A)):\n",
    "        for j in range(len(A)):\n",
    "            for k in range(len(B)):\n",
    "                multiply[i][j] += A[i][k] * B[k][j]\n",
    "    return print(\"multiplication using loops\\n\", multiply)\n",
    "    \n",
    "def invert_matrix(BC):\n",
    "    n = len(BC)\n",
    "    I=np.identity(n)\n",
    "    indices = list(range(n))\n",
    "    for fd in range(n):\n",
    "        diagScaler = 1.0 / BC[fd][fd] \n",
    "        for j in range(n):\n",
    "            BC[fd][j] *= diagScaler\n",
    "            I[fd][j] *= diagScaler\n",
    "        for i in indices[0:fd] + indices[fd+1:]: \n",
    "            ro_op = BC[i][fd]\n",
    "            for j in range(n): \n",
    "                BC[i][j] = BC[i][j] - ro_op * BC[fd][j]\n",
    "                I[i][j] = I[i][j] - ro_op * I[fd][j]\n",
    "    return I"
   ]
  },
  {
   "attachments": {},
   "cell_type": "markdown",
   "metadata": {},
   "source": [
    "### Addition"
   ]
  },
  {
   "cell_type": "code",
   "execution_count": 29,
   "metadata": {},
   "outputs": [
    {
     "name": "stdout",
     "output_type": "stream",
     "text": [
      "addition using loops\n",
      " [[14. 29. 23. 41. 29.  5. 14. 25. 19. 28.]\n",
      " [ 6. 46. 12. 22. 22. 31. 24. 15. 24.  6.]\n",
      " [25. 43. 29. 16. 26. 33. 23. 24. 22. 20.]\n",
      " [35. 27. 21. 32. 29. 30. 32. 45. 14. 31.]\n",
      " [ 3. 26. 36. 14. 15.  8. 18. 24. 30. 38.]\n",
      " [26. 29. 18.  5. 30. 23. 14.  2. 27. 39.]\n",
      " [33. 25. 40. 28. 23.  8. 27. 45. 19. 16.]\n",
      " [ 9. 35. 38. 23. 17. 38. 21.  3. 26. 39.]\n",
      " [35. 38. 35.  7. 20. 25. 14. 29. 27.  2.]\n",
      " [23. 17. 35. 14. 22. 39. 26. 30. 19. 22.]]\n",
      "addition using numpy\n",
      " [[14 29 23 41 29  5 14 25 19 28]\n",
      " [ 6 46 12 22 22 31 24 15 24  6]\n",
      " [25 43 29 16 26 33 23 24 22 20]\n",
      " [35 27 21 32 29 30 32 45 14 31]\n",
      " [ 3 26 36 14 15  8 18 24 30 38]\n",
      " [26 29 18  5 30 23 14  2 27 39]\n",
      " [33 25 40 28 23  8 27 45 19 16]\n",
      " [ 9 35 38 23 17 38 21  3 26 39]\n",
      " [35 38 35  7 20 25 14 29 27  2]\n",
      " [23 17 35 14 22 39 26 30 19 22]]\n"
     ]
    }
   ],
   "source": [
    "#using loops\n",
    "start1=T.time()\n",
    "addMatrix(raw_1, raw_2)\n",
    "end1=T.time()\n",
    "\n",
    "#using numpy\n",
    "start2=T.time()\n",
    "nadd=np.add(raw_1,raw_2)\n",
    "end2=T.time()\n",
    "print(\"addition using numpy\\n\", nadd)\n"
   ]
  },
  {
   "attachments": {},
   "cell_type": "markdown",
   "metadata": {},
   "source": [
    "### Multiplication"
   ]
  },
  {
   "cell_type": "code",
   "execution_count": 30,
   "metadata": {},
   "outputs": [
    {
     "name": "stdout",
     "output_type": "stream",
     "text": [
      "multiplication using loops\n",
      " [[ 958. 1333. 1512. 1213. 1012. 1690. 1250. 1213. 1096. 1246.]\n",
      " [ 961. 1687. 1761. 1360. 1292. 1794. 1317. 1313. 1606. 1408.]\n",
      " [1123. 1718. 1870. 1412. 1469. 2005. 1116.  914. 1417. 1690.]\n",
      " [ 969. 1573. 2112. 1555. 1417. 1717. 1532. 1133. 1208. 1693.]\n",
      " [ 893. 1985. 1907. 1503. 1267. 2282. 1632. 1204. 1370. 1188.]\n",
      " [ 797. 1047. 1335.  878.  931. 1458.  874.  908. 1110. 1086.]\n",
      " [1090. 2167. 2145. 1990. 1617. 1970. 1605. 1535. 1597. 1596.]\n",
      " [1157. 1535. 1992.  964. 1307. 1995. 1230. 1157. 1424. 1091.]\n",
      " [ 638. 1556. 1555. 1189. 1044. 1419.  884. 1010. 1174.  939.]\n",
      " [1136. 1958. 2297. 1421. 1608. 2085. 1474. 1192. 1630. 1539.]]\n",
      "multiplication using numpy\n",
      " [[ 958 1333 1512 1213 1012 1690 1250 1213 1096 1246]\n",
      " [ 961 1687 1761 1360 1292 1794 1317 1313 1606 1408]\n",
      " [1123 1718 1870 1412 1469 2005 1116  914 1417 1690]\n",
      " [ 969 1573 2112 1555 1417 1717 1532 1133 1208 1693]\n",
      " [ 893 1985 1907 1503 1267 2282 1632 1204 1370 1188]\n",
      " [ 797 1047 1335  878  931 1458  874  908 1110 1086]\n",
      " [1090 2167 2145 1990 1617 1970 1605 1535 1597 1596]\n",
      " [1157 1535 1992  964 1307 1995 1230 1157 1424 1091]\n",
      " [ 638 1556 1555 1189 1044 1419  884 1010 1174  939]\n",
      " [1136 1958 2297 1421 1608 2085 1474 1192 1630 1539]]\n"
     ]
    }
   ],
   "source": [
    "start3=T.time()\n",
    "multiMatrix(raw_1,raw_2)\n",
    "end3=T.time()\n",
    "\n",
    "#using numpy\n",
    "start4=T.time()\n",
    "nmultiply=np.matmul(array_1,array_2)\n",
    "end4=T.time()\n",
    "print(\"multiplication using numpy\\n\",nmultiply)"
   ]
  },
  {
   "attachments": {},
   "cell_type": "markdown",
   "metadata": {},
   "source": [
    "### Inversion\n",
    "- for inverse we applied jordan elimination and row operations simultaneously for matrix and a identity matrix"
   ]
  },
  {
   "cell_type": "code",
   "execution_count": 31,
   "metadata": {},
   "outputs": [],
   "source": [
    "#using numpy\n",
    "start5=T.time()\n",
    "ninv=np.linalg.inv(array_1)\n",
    "end5=T.time()\n",
    "\n",
    "#using loops\n",
    "start6=T.time()\n",
    "invert_matrix(raw_1)\n",
    "end6=T.time()\n"
   ]
  },
  {
   "attachments": {},
   "cell_type": "markdown",
   "metadata": {},
   "source": [
    "## Comparision of time factors:\n",
    "- numpy = factor x loops"
   ]
  },
  {
   "cell_type": "code",
   "execution_count": 32,
   "metadata": {},
   "outputs": [
    {
     "name": "stdout",
     "output_type": "stream",
     "text": [
      "addition => factor=21.723076923076924\n",
      "multiply => factor=27.28482972136223\n",
      "inverse  => factor=15.476749239461103\n"
     ]
    }
   ],
   "source": [
    "print(f\"\"\"addition => factor={(end1-start1)/(end2-start2)}\n",
    "multiply => factor={(end3-start3)/(end4-start4)}\n",
    "inverse  => factor={(end6-start6)/(end5-start5)}\"\"\")"
   ]
  }
 ],
 "metadata": {
  "kernelspec": {
   "display_name": "notebooks",
   "language": "python",
   "name": "python3"
  },
  "language_info": {
   "codemirror_mode": {
    "name": "ipython",
    "version": 3
   },
   "file_extension": ".py",
   "mimetype": "text/x-python",
   "name": "python",
   "nbconvert_exporter": "python",
   "pygments_lexer": "ipython3",
   "version": "3.10.10"
  },
  "orig_nbformat": 4
 },
 "nbformat": 4,
 "nbformat_minor": 2
}

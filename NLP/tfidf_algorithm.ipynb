{
 "cells": [
  {
   "cell_type": "code",
   "execution_count": 1,
   "metadata": {},
   "outputs": [],
   "source": [
    "import numpy as np\n",
    "import re\n",
    "import pandas as pd\n",
    "import string\n",
    "import math"
   ]
  },
  {
   "cell_type": "code",
   "execution_count": 37,
   "metadata": {},
   "outputs": [],
   "source": [
    "strings=[\"hello world\",\"hello this is a sentence\",\"hello this below functions are good to run for medium sized datasets\",\"world punc.!tua:t'ion &se'n-ten?ce\"]\n",
    "data=pd.DataFrame({'data':strings})"
   ]
  },
  {
   "cell_type": "code",
   "execution_count": 38,
   "metadata": {},
   "outputs": [],
   "source": [
    "#ANCHOR - text cleaning function\n",
    "def cleantext(text):\n",
    "    #STUB - string_clean=['<br />','\"',',',':','!','&','(',')','?','$','-',';','/'] ---> list for using with a loop\n",
    "    #NOTE -  the next lines are based on your requirements based on your data\n",
    "    text=text.lower()\n",
    "    text=text.replace('<br />',' ')\n",
    "    text=re.sub(r'[.*<>!&()\"?$-/:=1234567890]','',text)\n",
    "    text=re.sub(r\"[']\",'',text)\n",
    "    text=\" \".join(text.split())\n",
    "    return text\n",
    "\n",
    "totalclean = lambda text: cleantext(text)#TODO - use this on a pandas dataframe by using data.apply()"
   ]
  },
  {
   "cell_type": "code",
   "execution_count": null,
   "metadata": {},
   "outputs": [],
   "source": [
    "#TODO - you can remove stop words and add lemmatisers or stemmers here for this step"
   ]
  },
  {
   "cell_type": "code",
   "execution_count": 39,
   "metadata": {},
   "outputs": [],
   "source": [
    "data['data']=data['data'].apply(totalclean)"
   ]
  },
  {
   "cell_type": "code",
   "execution_count": 40,
   "metadata": {},
   "outputs": [],
   "source": [
    "#ANCHOR - unique word mapper funtion\n",
    "def unique_words_tokeniser(data):#pass the entire dataframe into tis function\n",
    "    #NOTE - collect all the unique words and map to a token using dictionary method\n",
    "    unique_word_map={}\n",
    "    click=0\n",
    "    for text in data:\n",
    "        for word in text.split():\n",
    "            if word not in unique_word_map:\n",
    "                unique_word_map[word]=click\n",
    "                click=click+1\n",
    "    return unique_word_map"
   ]
  },
  {
   "cell_type": "code",
   "execution_count": 41,
   "metadata": {},
   "outputs": [],
   "source": [
    "unique_word_map=unique_words_tokeniser(data['data'])"
   ]
  },
  {
   "cell_type": "code",
   "execution_count": 42,
   "metadata": {},
   "outputs": [],
   "source": [
    "#TODO - before using this function create unique_word_map\n",
    "#ANCHOR - text tokeniser for a single entry\n",
    "def sent_tokeniser(text,unique_word_map):\n",
    "    list_word=text.split()\n",
    "    for i in range(len(list_word)):\n",
    "        list_word[i]=unique_word_map[list_word[i]]\n",
    "    return list_word\n",
    "\n",
    "tokenise=lambda text: sent_tokeniser(text,unique_word_map)#TODO - use this on a pandas dataframe by using data.apply()"
   ]
  },
  {
   "cell_type": "code",
   "execution_count": 43,
   "metadata": {},
   "outputs": [],
   "source": [
    "data['token']=data['data'].apply(tokenise)"
   ]
  },
  {
   "cell_type": "code",
   "execution_count": 44,
   "metadata": {},
   "outputs": [],
   "source": [
    "#REVIEW - due to memory issue changed this vector to a sparse matrix using a dictionary\n",
    "#[2,1,0,0,5,0,0,0,0,0]===>{0:2,1:1,4:5}\n",
    "def count_vectoriser(text):\n",
    "    dict1={}\n",
    "    for num in text:\n",
    "        if num in dict1:\n",
    "            dict1[num]=dict1[num]+1\n",
    "        else:\n",
    "            dict1[num]=1\n",
    "    return dict1\n",
    "\n",
    "vectorise=lambda text: count_vectoriser(text)#TODO - use this on a pandas dataframe by using data.apply()"
   ]
  },
  {
   "cell_type": "code",
   "execution_count": 45,
   "metadata": {},
   "outputs": [],
   "source": [
    "data['vector']=data['token'].apply(vectorise)"
   ]
  },
  {
   "cell_type": "code",
   "execution_count": 46,
   "metadata": {},
   "outputs": [],
   "source": [
    "#ANCHOR - sparse matrix creation from vector and dictionary being passed\n",
    "def sparse_matrix(input,type):\n",
    "    spm=[]\n",
    "    if type==\"vector\":\n",
    "        for i in range(len(input)):\n",
    "            if not input[i]==0:\n",
    "                spm.append([i,input[i]])\n",
    "        \n",
    "    elif type==\"dict\":\n",
    "        for key in input:\n",
    "            if not input[key]==0:\n",
    "                spm.append([key,input[key]])\n",
    "    else:\n",
    "        raise TypeError\n",
    "        print(\"input type not specified\")\n",
    "    return np.array(spm)"
   ]
  },
  {
   "cell_type": "code",
   "execution_count": 47,
   "metadata": {},
   "outputs": [
    {
     "name": "stdout",
     "output_type": "stream",
     "text": [
      "{'hello': 3, 'world': 2, 'this': 2, 'is': 1, 'a': 1, 'sentence': 1, 'below': 1, 'functions': 1, 'are': 1, 'good': 1, 'to': 1, 'run': 1, 'for': 1, 'medium': 1, 'sized': 1, 'datasets': 1, \"punc.!tua:t'ion\": 1, \"&se'n-ten?ce\": 1} {'hello': 3, 'world': 2, 'this': 2, 'is': 1, 'a': 1, 'sentence': 1, 'below': 1, 'functions': 1, 'are': 1, 'good': 1, 'to': 1, 'run': 1, 'for': 1, 'medium': 1, 'sized': 1, 'datasets': 1, \"punc.!tua:t'ion\": 1, \"&se'n-ten?ce\": 1}\n"
     ]
    }
   ],
   "source": [
    "#NOTE - consumes huge time time for bigger dataset\n",
    "def all_counts(data):\n",
    "    unique={}\n",
    "    df_count={}\n",
    "    for text in data:\n",
    "        for word in text.split():\n",
    "            if word in unique:\n",
    "                unique[word]=unique[word]+1\n",
    "            else:\n",
    "                unique[word]=1\n",
    "\n",
    "    for word in unique:\n",
    "        df_count[word]=0\n",
    "\n",
    "    for text in data:\n",
    "        for word in unique:\n",
    "            if word in text.split():\n",
    "                df_count[word]=df_count[word]+1\n",
    "            else:\n",
    "                continue\n",
    "\n",
    "    return unique,df_count\n",
    "\n",
    "r,t=all_counts(strings)\n",
    "print(r,t)"
   ]
  },
  {
   "cell_type": "code",
   "execution_count": 48,
   "metadata": {},
   "outputs": [],
   "source": [
    "#REVIEW - document frequency can also be written using numpy array but here it is written using dictionary\n",
    "#ANCHOR - document frequency and n function \n",
    "def df_n(data):\n",
    "    df={}\n",
    "    n={}\n",
    "    for vector in data:\n",
    "        for key in vector:\n",
    "            if key in df:\n",
    "                df[key]=df[key]+1\n",
    "                n[key]=n[key]+vector[key]\n",
    "            else:\n",
    "                df[key]=1\n",
    "                n[key]=vector[key]\n",
    "    return df,n"
   ]
  },
  {
   "cell_type": "code",
   "execution_count": 49,
   "metadata": {},
   "outputs": [],
   "source": [
    "df,n=df_n(data['vector'])"
   ]
  },
  {
   "cell_type": "code",
   "execution_count": 61,
   "metadata": {},
   "outputs": [],
   "source": [
    "#ANCHOR - inverse document frequency using dictionary\n",
    "def idf_(df,n):\n",
    "    idf={}\n",
    "    for key in n:\n",
    "        mt=n[key]/(1+df[key])+1\n",
    "        idf[key]=round(math.log(mt),4)\n",
    "    return idf"
   ]
  },
  {
   "cell_type": "code",
   "execution_count": 62,
   "metadata": {},
   "outputs": [],
   "source": [
    "idf=idf_(df,n)"
   ]
  },
  {
   "cell_type": "code",
   "execution_count": 63,
   "metadata": {},
   "outputs": [],
   "source": [
    "#ANCHOR - tfidf given in dictionary format applied to the vector\n",
    "def tfidf(vector):\n",
    "    tfidf={}\n",
    "    for tok in vector:\n",
    "        tfidf[tok]=idf[tok]*vector[tok]\n",
    "    return tfidf\n",
    "\n",
    "transform=lambda vector: tfidf(vector)#TODO - use on a pandas dataframe"
   ]
  },
  {
   "cell_type": "code",
   "execution_count": 64,
   "metadata": {},
   "outputs": [],
   "source": [
    "data['tfidf']=data['vector'].apply(transform)"
   ]
  },
  {
   "cell_type": "code",
   "execution_count": 65,
   "metadata": {},
   "outputs": [
    {
     "data": {
      "text/html": [
       "<div>\n",
       "<style scoped>\n",
       "    .dataframe tbody tr th:only-of-type {\n",
       "        vertical-align: middle;\n",
       "    }\n",
       "\n",
       "    .dataframe tbody tr th {\n",
       "        vertical-align: top;\n",
       "    }\n",
       "\n",
       "    .dataframe thead th {\n",
       "        text-align: right;\n",
       "    }\n",
       "</style>\n",
       "<table border=\"1\" class=\"dataframe\">\n",
       "  <thead>\n",
       "    <tr style=\"text-align: right;\">\n",
       "      <th></th>\n",
       "      <th>data</th>\n",
       "      <th>token</th>\n",
       "      <th>vector</th>\n",
       "      <th>tfidf</th>\n",
       "    </tr>\n",
       "  </thead>\n",
       "  <tbody>\n",
       "    <tr>\n",
       "      <th>0</th>\n",
       "      <td>hello world</td>\n",
       "      <td>[0, 1]</td>\n",
       "      <td>{0: 1, 1: 1}</td>\n",
       "      <td>{0: 0.5596, 1: 0.5108}</td>\n",
       "    </tr>\n",
       "    <tr>\n",
       "      <th>1</th>\n",
       "      <td>hello this is a sentence</td>\n",
       "      <td>[0, 2, 3, 4, 5]</td>\n",
       "      <td>{0: 1, 2: 1, 3: 1, 4: 1, 5: 1}</td>\n",
       "      <td>{0: 0.5596, 2: 0.5108, 3: 0.4055, 4: 0.4055, 5...</td>\n",
       "    </tr>\n",
       "    <tr>\n",
       "      <th>2</th>\n",
       "      <td>hello this below functions are good to run for...</td>\n",
       "      <td>[0, 2, 6, 7, 8, 9, 10, 11, 12, 13, 14, 15]</td>\n",
       "      <td>{0: 1, 2: 1, 6: 1, 7: 1, 8: 1, 9: 1, 10: 1, 11...</td>\n",
       "      <td>{0: 0.5596, 2: 0.5108, 6: 0.4055, 7: 0.4055, 8...</td>\n",
       "    </tr>\n",
       "    <tr>\n",
       "      <th>3</th>\n",
       "      <td>world punctuation sentence</td>\n",
       "      <td>[1, 16, 5]</td>\n",
       "      <td>{1: 1, 16: 1, 5: 1}</td>\n",
       "      <td>{1: 0.5108, 16: 0.4055, 5: 0.5108}</td>\n",
       "    </tr>\n",
       "  </tbody>\n",
       "</table>\n",
       "</div>"
      ],
      "text/plain": [
       "                                                data  \\\n",
       "0                                        hello world   \n",
       "1                           hello this is a sentence   \n",
       "2  hello this below functions are good to run for...   \n",
       "3                         world punctuation sentence   \n",
       "\n",
       "                                        token  \\\n",
       "0                                      [0, 1]   \n",
       "1                             [0, 2, 3, 4, 5]   \n",
       "2  [0, 2, 6, 7, 8, 9, 10, 11, 12, 13, 14, 15]   \n",
       "3                                  [1, 16, 5]   \n",
       "\n",
       "                                              vector  \\\n",
       "0                                       {0: 1, 1: 1}   \n",
       "1                     {0: 1, 2: 1, 3: 1, 4: 1, 5: 1}   \n",
       "2  {0: 1, 2: 1, 6: 1, 7: 1, 8: 1, 9: 1, 10: 1, 11...   \n",
       "3                                {1: 1, 16: 1, 5: 1}   \n",
       "\n",
       "                                               tfidf  \n",
       "0                             {0: 0.5596, 1: 0.5108}  \n",
       "1  {0: 0.5596, 2: 0.5108, 3: 0.4055, 4: 0.4055, 5...  \n",
       "2  {0: 0.5596, 2: 0.5108, 6: 0.4055, 7: 0.4055, 8...  \n",
       "3                 {1: 0.5108, 16: 0.4055, 5: 0.5108}  "
      ]
     },
     "execution_count": 65,
     "metadata": {},
     "output_type": "execute_result"
    }
   ],
   "source": [
    "data.head()"
   ]
  },
  {
   "cell_type": "code",
   "execution_count": 55,
   "metadata": {},
   "outputs": [
    {
     "name": "stdout",
     "output_type": "stream",
     "text": [
      "{'hello': 0, 'world': 1, 'this': 2, 'is': 3, 'a': 4, 'sentence': 5, 'below': 6, 'functions': 7, 'are': 8, 'good': 9, 'to': 10, 'run': 11, 'for': 12, 'medium': 13, 'sized': 14, 'datasets': 15, 'punctuation': 16}\n"
     ]
    }
   ],
   "source": [
    "print(unique_word_map)"
   ]
  }
 ],
 "metadata": {
  "kernelspec": {
   "display_name": "python3",
   "language": "python",
   "name": "python3"
  },
  "language_info": {
   "codemirror_mode": {
    "name": "ipython",
    "version": 3
   },
   "file_extension": ".py",
   "mimetype": "text/x-python",
   "name": "python",
   "nbconvert_exporter": "python",
   "pygments_lexer": "ipython3",
   "version": "3.10.9"
  },
  "orig_nbformat": 4,
  "vscode": {
   "interpreter": {
    "hash": "df0ff3738b574c54d7fdd1e3d72b93845a14d055a7acb5823f6b13d7c5cfe9b2"
   }
  }
 },
 "nbformat": 4,
 "nbformat_minor": 2
}

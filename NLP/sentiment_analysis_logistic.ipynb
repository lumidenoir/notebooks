{
 "cells": [
  {
   "cell_type": "code",
   "execution_count": 97,
   "metadata": {
    "execution": {
     "iopub.execute_input": "2023-02-03T23:00:01.229908Z",
     "iopub.status.busy": "2023-02-03T23:00:01.229598Z",
     "iopub.status.idle": "2023-02-03T23:00:01.234913Z",
     "shell.execute_reply": "2023-02-03T23:00:01.233923Z",
     "shell.execute_reply.started": "2023-02-03T23:00:01.229885Z"
    },
    "tags": []
   },
   "outputs": [],
   "source": [
    "import numpy as np\n",
    "import pandas as pd\n",
    "import string\n",
    "import re\n",
    "from sklearn.model_selection import train_test_split\n",
    "from sklearn.feature_extraction.text import TfidfVectorizer"
   ]
  },
  {
   "cell_type": "code",
   "execution_count": 91,
   "metadata": {
    "execution": {
     "iopub.execute_input": "2023-02-03T23:42:34.358186Z",
     "iopub.status.busy": "2023-02-03T23:42:34.357201Z",
     "iopub.status.idle": "2023-02-03T23:42:34.835220Z",
     "shell.execute_reply": "2023-02-03T23:42:34.834771Z",
     "shell.execute_reply.started": "2023-02-03T23:42:34.358118Z"
    },
    "tags": []
   },
   "outputs": [
    {
     "data": {
      "text/html": [
       "<div>\n",
       "<style scoped>\n",
       "    .dataframe tbody tr th:only-of-type {\n",
       "        vertical-align: middle;\n",
       "    }\n",
       "\n",
       "    .dataframe tbody tr th {\n",
       "        vertical-align: top;\n",
       "    }\n",
       "\n",
       "    .dataframe thead th {\n",
       "        text-align: right;\n",
       "    }\n",
       "</style>\n",
       "<table border=\"1\" class=\"dataframe\">\n",
       "  <thead>\n",
       "    <tr style=\"text-align: right;\">\n",
       "      <th></th>\n",
       "      <th>review</th>\n",
       "      <th>sentiment</th>\n",
       "    </tr>\n",
       "  </thead>\n",
       "  <tbody>\n",
       "    <tr>\n",
       "      <th>0</th>\n",
       "      <td>One of the other reviewers has mentioned that ...</td>\n",
       "      <td>positive</td>\n",
       "    </tr>\n",
       "    <tr>\n",
       "      <th>1</th>\n",
       "      <td>A wonderful little production. &lt;br /&gt;&lt;br /&gt;The...</td>\n",
       "      <td>positive</td>\n",
       "    </tr>\n",
       "    <tr>\n",
       "      <th>2</th>\n",
       "      <td>I thought this was a wonderful way to spend ti...</td>\n",
       "      <td>positive</td>\n",
       "    </tr>\n",
       "    <tr>\n",
       "      <th>3</th>\n",
       "      <td>Basically there's a family where a little boy ...</td>\n",
       "      <td>negative</td>\n",
       "    </tr>\n",
       "    <tr>\n",
       "      <th>4</th>\n",
       "      <td>Petter Mattei's \"Love in the Time of Money\" is...</td>\n",
       "      <td>positive</td>\n",
       "    </tr>\n",
       "  </tbody>\n",
       "</table>\n",
       "</div>"
      ],
      "text/plain": [
       "                                              review sentiment\n",
       "0  One of the other reviewers has mentioned that ...  positive\n",
       "1  A wonderful little production. <br /><br />The...  positive\n",
       "2  I thought this was a wonderful way to spend ti...  positive\n",
       "3  Basically there's a family where a little boy ...  negative\n",
       "4  Petter Mattei's \"Love in the Time of Money\" is...  positive"
      ]
     },
     "execution_count": 91,
     "metadata": {},
     "output_type": "execute_result"
    }
   ],
   "source": [
    "df=pd.read_csv('/home/krishna/python3/datasets/IMDB Dataset.csv')\n",
    "df.head()"
   ]
  },
  {
   "cell_type": "code",
   "execution_count": 90,
   "metadata": {},
   "outputs": [
    {
     "data": {
      "text/plain": [
       "(50000, 2)"
      ]
     },
     "execution_count": 90,
     "metadata": {},
     "output_type": "execute_result"
    }
   ],
   "source": [
    "df.shape"
   ]
  },
  {
   "cell_type": "code",
   "execution_count": 92,
   "metadata": {
    "execution": {
     "iopub.execute_input": "2023-02-03T23:42:24.816086Z",
     "iopub.status.busy": "2023-02-03T23:42:24.815827Z",
     "iopub.status.idle": "2023-02-03T23:42:24.820823Z",
     "shell.execute_reply": "2023-02-03T23:42:24.820215Z",
     "shell.execute_reply.started": "2023-02-03T23:42:24.816063Z"
    },
    "tags": []
   },
   "outputs": [],
   "source": [
    "def cleantext(text):\n",
    "    #STUB - string_clean=['<br />','\"',',',':','!','&','(',')','?','$','-',';','/']\n",
    "    text=text.lower()\n",
    "    text=text.replace('<br />',' ')\n",
    "    text=re.sub(r'[.*<>!&()\"?$-/:=1234567890]','',text)\n",
    "    text=re.sub(r\"[']\",'',text)\n",
    "    text=\" \".join(text.split())\n",
    "    return text\n",
    "\n",
    "totalclean = lambda text: cleantext(text)"
   ]
  },
  {
   "cell_type": "code",
   "execution_count": 93,
   "metadata": {
    "execution": {
     "iopub.execute_input": "2023-02-03T23:42:40.322829Z",
     "iopub.status.busy": "2023-02-03T23:42:40.322542Z",
     "iopub.status.idle": "2023-02-03T23:42:41.844547Z",
     "shell.execute_reply": "2023-02-03T23:42:41.843898Z",
     "shell.execute_reply.started": "2023-02-03T23:42:40.322806Z"
    },
    "tags": []
   },
   "outputs": [],
   "source": [
    "df['review']=df['review'].apply(totalclean)"
   ]
  },
  {
   "cell_type": "code",
   "execution_count": 95,
   "metadata": {
    "execution": {
     "iopub.execute_input": "2023-02-03T23:42:41.846096Z",
     "iopub.status.busy": "2023-02-03T23:42:41.845820Z",
     "iopub.status.idle": "2023-02-03T23:42:41.849284Z",
     "shell.execute_reply": "2023-02-03T23:42:41.848808Z",
     "shell.execute_reply.started": "2023-02-03T23:42:41.846077Z"
    },
    "tags": []
   },
   "outputs": [
    {
     "name": "stdout",
     "output_type": "stream",
     "text": [
      "a wonderful little production the filming technique is very unassuming very oldtimebbc fashion and gives a comforting and sometimes discomforting sense of realism to the entire piece the actors are extremely well chosen michael sheen not only has got all the polari but he has all the voices down pat too you can truly see the seamless editing guided by the references to williams diary entries not only is it well worth the watching but it is a terrificly written and performed piece a masterful production about one of the great masters of comedy and his life the realism really comes home with the little things the fantasy of the guard which rather than use the traditional dream techniques remains solid then disappears it plays on our knowledge and our senses particularly with the scenes concerning orton and halliwell and the sets particularly of their flat with halliwells murals decorating every surface are terribly well done\n"
     ]
    }
   ],
   "source": [
    "print(df['review'][1])"
   ]
  },
  {
   "cell_type": "code",
   "execution_count": 98,
   "metadata": {
    "execution": {
     "iopub.execute_input": "2023-02-03T23:41:28.650699Z",
     "iopub.status.busy": "2023-02-03T23:41:28.650126Z",
     "iopub.status.idle": "2023-02-03T23:41:28.671603Z",
     "shell.execute_reply": "2023-02-03T23:41:28.670670Z",
     "shell.execute_reply.started": "2023-02-03T23:41:28.650646Z"
    },
    "tags": []
   },
   "outputs": [],
   "source": [
    "X_train,X_test,y_train,y_test=train_test_split(df['review'],df['sentiment'],test_size=0.3,random_state=42)"
   ]
  },
  {
   "cell_type": "code",
   "execution_count": 99,
   "metadata": {},
   "outputs": [],
   "source": [
    "from sklearn.pipeline import Pipeline\n",
    "from sklearn.linear_model import LogisticRegression"
   ]
  },
  {
   "cell_type": "code",
   "execution_count": 100,
   "metadata": {},
   "outputs": [],
   "source": [
    "model=Pipeline([('tfid',TfidfVectorizer(min_df=3,max_df=0.9)),('classifier',LogisticRegression())])\n",
    "model.fit(X_train,y_train)\n",
    "predictions=model.predict(X_test)"
   ]
  },
  {
   "cell_type": "code",
   "execution_count": 101,
   "metadata": {},
   "outputs": [],
   "source": [
    "from sklearn.metrics import accuracy_score,confusion_matrix,classification_report"
   ]
  },
  {
   "cell_type": "code",
   "execution_count": 102,
   "metadata": {},
   "outputs": [
    {
     "name": "stdout",
     "output_type": "stream",
     "text": [
      "              precision    recall  f1-score   support\n",
      "\n",
      "    negative       0.91      0.89      0.90      7411\n",
      "    positive       0.90      0.91      0.90      7589\n",
      "\n",
      "    accuracy                           0.90     15000\n",
      "   macro avg       0.90      0.90      0.90     15000\n",
      "weighted avg       0.90      0.90      0.90     15000\n",
      "\n",
      "0.9004666666666666\n"
     ]
    },
    {
     "data": {
      "text/plain": [
       "array(['negative'], dtype=object)"
      ]
     },
     "execution_count": 102,
     "metadata": {},
     "output_type": "execute_result"
    }
   ],
   "source": [
    "print(classification_report(y_test,predictions))\n",
    "print(accuracy_score(y_test,predictions))\n",
    "confusion_matrix(y_test,predictions)\n",
    "model.predict([\"review over here, good movie\"])"
   ]
  }
 ],
 "metadata": {
  "kernelspec": {
   "display_name": "Python 3 (ipykernel)",
   "language": "python",
   "name": "python3"
  },
  "language_info": {
   "codemirror_mode": {
    "name": "ipython",
    "version": 3
   },
   "file_extension": ".py",
   "mimetype": "text/x-python",
   "name": "python",
   "nbconvert_exporter": "python",
   "pygments_lexer": "ipython3",
   "version": "3.10.9"
  },
  "vscode": {
   "interpreter": {
    "hash": "df0ff3738b574c54d7fdd1e3d72b93845a14d055a7acb5823f6b13d7c5cfe9b2"
   }
  }
 },
 "nbformat": 4,
 "nbformat_minor": 4
}

{
 "cells": [
  {
   "cell_type": "code",
   "execution_count": 6,
   "id": "838443fc-35ac-4832-b9ed-5014e294f53f",
   "metadata": {
    "execution": {
     "iopub.execute_input": "2023-02-02T18:52:55.712666Z",
     "iopub.status.busy": "2023-02-02T18:52:55.712107Z",
     "iopub.status.idle": "2023-02-02T18:53:15.594546Z",
     "shell.execute_reply": "2023-02-02T18:53:15.593391Z",
     "shell.execute_reply.started": "2023-02-02T18:52:55.712612Z"
    },
    "tags": []
   },
   "outputs": [],
   "source": [
    "import numpy as np\n",
    "import mnist\n",
    "from tensorflow import keras\n",
    "from keras.utils import to_categorical"
   ]
  },
  {
   "cell_type": "code",
   "execution_count": 7,
   "id": "e34101d0-c849-4062-ae78-51fc277e04c1",
   "metadata": {
    "execution": {
     "iopub.execute_input": "2023-02-02T18:53:15.599215Z",
     "iopub.status.busy": "2023-02-02T18:53:15.596307Z",
     "iopub.status.idle": "2023-02-02T18:53:16.491098Z",
     "shell.execute_reply": "2023-02-02T18:53:16.490297Z",
     "shell.execute_reply.started": "2023-02-02T18:53:15.599131Z"
    },
    "tags": []
   },
   "outputs": [
    {
     "name": "stdout",
     "output_type": "stream",
     "text": [
      "(60000, 28, 28)\n",
      "5\n"
     ]
    }
   ],
   "source": [
    "train_images = mnist.train_images()\n",
    "train_labels = mnist.train_labels()\n",
    "test_images = mnist.test_images()\n",
    "test_labels = mnist.test_labels()\n",
    "print(train_images.shape)\n",
    "print(train_labels[0])"
   ]
  },
  {
   "cell_type": "code",
   "execution_count": 8,
   "id": "a132ae3d-d0d0-4c2a-9c63-7c0d44187059",
   "metadata": {
    "execution": {
     "iopub.execute_input": "2023-02-02T18:53:16.492554Z",
     "iopub.status.busy": "2023-02-02T18:53:16.492218Z",
     "iopub.status.idle": "2023-02-02T18:53:16.722294Z",
     "shell.execute_reply": "2023-02-02T18:53:16.721140Z",
     "shell.execute_reply.started": "2023-02-02T18:53:16.492518Z"
    },
    "tags": []
   },
   "outputs": [],
   "source": [
    "train_images_nor=(train_images/255)-0.5\n",
    "test_images_nor=(test_images/255)-0.5"
   ]
  },
  {
   "cell_type": "code",
   "execution_count": 9,
   "id": "4c86d61d-4d8f-417a-9a59-18483cd45e35",
   "metadata": {
    "execution": {
     "iopub.execute_input": "2023-02-02T18:53:16.725481Z",
     "iopub.status.busy": "2023-02-02T18:53:16.725040Z",
     "iopub.status.idle": "2023-02-02T18:53:16.730593Z",
     "shell.execute_reply": "2023-02-02T18:53:16.729902Z",
     "shell.execute_reply.started": "2023-02-02T18:53:16.725448Z"
    },
    "tags": []
   },
   "outputs": [],
   "source": [
    "train_images = train_images_nor.reshape((-1,784))\n",
    "test_images = test_images_nor.reshape((-1,784))"
   ]
  },
  {
   "cell_type": "code",
   "execution_count": 10,
   "id": "1240bc82-5c8d-482d-9427-2f12bb49defd",
   "metadata": {
    "execution": {
     "iopub.execute_input": "2023-02-02T18:53:16.731728Z",
     "iopub.status.busy": "2023-02-02T18:53:16.731450Z",
     "iopub.status.idle": "2023-02-02T18:53:16.814113Z",
     "shell.execute_reply": "2023-02-02T18:53:16.812391Z",
     "shell.execute_reply.started": "2023-02-02T18:53:16.731708Z"
    },
    "tags": []
   },
   "outputs": [],
   "source": [
    "from keras.models import Sequential\n",
    "from keras.layers import Dense"
   ]
  },
  {
   "cell_type": "code",
   "execution_count": 18,
   "id": "83f69aa6-c803-41ac-83ca-4eab296e77a8",
   "metadata": {
    "execution": {
     "iopub.execute_input": "2023-02-02T18:53:16.816577Z",
     "iopub.status.busy": "2023-02-02T18:53:16.816065Z",
     "iopub.status.idle": "2023-02-02T18:53:18.024615Z",
     "shell.execute_reply": "2023-02-02T18:53:18.024051Z",
     "shell.execute_reply.started": "2023-02-02T18:53:16.816511Z"
    },
    "tags": []
   },
   "outputs": [],
   "source": [
    "model = Sequential()\n",
    "model.add(Dense(8,input_dim=784,activation='sigmoid'))\n",
    "model.add(Dense(8, activation='sigmoid'))\n",
    "model.add(Dense(10, activation='softmax'))\n",
    "model.compile(loss='categorical_crossentropy', optimizer='adam',metrics=['accuracy'])"
   ]
  },
  {
   "cell_type": "code",
   "execution_count": 19,
   "id": "c90361b8-1fcd-43b8-9484-fa9f579cb3b9",
   "metadata": {
    "execution": {
     "iopub.execute_input": "2023-02-02T18:53:18.025765Z",
     "iopub.status.busy": "2023-02-02T18:53:18.025544Z",
     "iopub.status.idle": "2023-02-02T18:53:18.088724Z",
     "shell.execute_reply": "2023-02-02T18:53:18.088002Z",
     "shell.execute_reply.started": "2023-02-02T18:53:18.025752Z"
    },
    "tags": []
   },
   "outputs": [
    {
     "name": "stdout",
     "output_type": "stream",
     "text": [
      "Model: \"sequential_1\"\n",
      "_________________________________________________________________\n",
      " Layer (type)                Output Shape              Param #   \n",
      "=================================================================\n",
      " dense_3 (Dense)             (None, 8)                 6280      \n",
      "                                                                 \n",
      " dense_4 (Dense)             (None, 8)                 72        \n",
      "                                                                 \n",
      " dense_5 (Dense)             (None, 10)                90        \n",
      "                                                                 \n",
      "=================================================================\n",
      "Total params: 6,442\n",
      "Trainable params: 6,442\n",
      "Non-trainable params: 0\n",
      "_________________________________________________________________\n"
     ]
    }
   ],
   "source": [
    "model.summary()"
   ]
  },
  {
   "cell_type": "code",
   "execution_count": 20,
   "id": "db0a40e6-34bb-4f71-9ddd-ef2263e0dc40",
   "metadata": {
    "execution": {
     "iopub.execute_input": "2023-02-02T18:53:18.089822Z",
     "iopub.status.busy": "2023-02-02T18:53:18.089577Z"
    },
    "tags": []
   },
   "outputs": [
    {
     "name": "stdout",
     "output_type": "stream",
     "text": [
      "Epoch 1/20\n",
      "1875/1875 [==============================] - 4s 2ms/step - loss: 1.6465 - accuracy: 0.5495\n",
      "Epoch 2/20\n",
      "1875/1875 [==============================] - 3s 1ms/step - loss: 0.9325 - accuracy: 0.7674\n",
      "Epoch 3/20\n",
      "1875/1875 [==============================] - 3s 1ms/step - loss: 0.6631 - accuracy: 0.8368\n",
      "Epoch 4/20\n",
      "1875/1875 [==============================] - 3s 1ms/step - loss: 0.5420 - accuracy: 0.8581\n",
      "Epoch 5/20\n",
      "1875/1875 [==============================] - 3s 2ms/step - loss: 0.4850 - accuracy: 0.8679\n",
      "Epoch 6/20\n",
      "1875/1875 [==============================] - 3s 2ms/step - loss: 0.4526 - accuracy: 0.8753\n",
      "Epoch 7/20\n",
      "1875/1875 [==============================] - 3s 1ms/step - loss: 0.4321 - accuracy: 0.8789\n",
      "Epoch 8/20\n",
      "1875/1875 [==============================] - 3s 2ms/step - loss: 0.4152 - accuracy: 0.8832\n",
      "Epoch 9/20\n",
      "1875/1875 [==============================] - 3s 2ms/step - loss: 0.4043 - accuracy: 0.8864\n",
      "Epoch 10/20\n",
      "1875/1875 [==============================] - 3s 2ms/step - loss: 0.3919 - accuracy: 0.8881\n",
      "Epoch 11/20\n",
      "1875/1875 [==============================] - 3s 2ms/step - loss: 0.3837 - accuracy: 0.8923\n",
      "Epoch 12/20\n",
      "1875/1875 [==============================] - 3s 2ms/step - loss: 0.3754 - accuracy: 0.8941\n",
      "Epoch 13/20\n",
      "1875/1875 [==============================] - 3s 2ms/step - loss: 0.3688 - accuracy: 0.8963\n",
      "Epoch 14/20\n",
      "1875/1875 [==============================] - 3s 2ms/step - loss: 0.3617 - accuracy: 0.8975\n",
      "Epoch 15/20\n",
      "1875/1875 [==============================] - 3s 2ms/step - loss: 0.3539 - accuracy: 0.9006\n",
      "Epoch 16/20\n",
      "1875/1875 [==============================] - 3s 2ms/step - loss: 0.3479 - accuracy: 0.9020\n",
      "Epoch 17/20\n",
      "1875/1875 [==============================] - 3s 2ms/step - loss: 0.3426 - accuracy: 0.9024\n",
      "Epoch 18/20\n",
      "1875/1875 [==============================] - 3s 2ms/step - loss: 0.3362 - accuracy: 0.9051\n",
      "Epoch 19/20\n",
      "1875/1875 [==============================] - 3s 2ms/step - loss: 0.3301 - accuracy: 0.9064\n",
      "Epoch 20/20\n",
      "1875/1875 [==============================] - 3s 2ms/step - loss: 0.3256 - accuracy: 0.9082\n"
     ]
    },
    {
     "data": {
      "text/plain": [
       "<keras.callbacks.History at 0x7f8e35169780>"
      ]
     },
     "execution_count": 20,
     "metadata": {},
     "output_type": "execute_result"
    }
   ],
   "source": [
    "model.fit(train_images, to_categorical(train_labels), epochs=20, batch_size=32)"
   ]
  },
  {
   "cell_type": "code",
   "execution_count": 21,
   "id": "c54ce94b-1e81-48ba-b96b-574a7f1f836a",
   "metadata": {
    "tags": []
   },
   "outputs": [
    {
     "name": "stdout",
     "output_type": "stream",
     "text": [
      "313/313 [==============================] - 0s 1ms/step\n"
     ]
    }
   ],
   "source": [
    "predictions=np.argmax(model.predict(test_images),axis=1)"
   ]
  },
  {
   "cell_type": "code",
   "execution_count": 16,
   "id": "bb20291f",
   "metadata": {},
   "outputs": [],
   "source": [
    "from sklearn.metrics import classification_report,confusion_matrix,accuracy_score"
   ]
  },
  {
   "cell_type": "code",
   "execution_count": 22,
   "id": "08ef0598",
   "metadata": {},
   "outputs": [
    {
     "name": "stdout",
     "output_type": "stream",
     "text": [
      "              precision    recall  f1-score   support\n",
      "\n",
      "           0       0.93      0.96      0.95       980\n",
      "           1       0.95      0.97      0.96      1135\n",
      "           2       0.90      0.86      0.88      1032\n",
      "           3       0.87      0.90      0.88      1010\n",
      "           4       0.88      0.95      0.92       982\n",
      "           5       0.87      0.84      0.86       892\n",
      "           6       0.92      0.92      0.92       958\n",
      "           7       0.90      0.92      0.91      1028\n",
      "           8       0.92      0.82      0.87       974\n",
      "           9       0.90      0.88      0.89      1009\n",
      "\n",
      "    accuracy                           0.90     10000\n",
      "   macro avg       0.90      0.90      0.90     10000\n",
      "weighted avg       0.90      0.90      0.90     10000\n",
      "\n",
      "[[ 944    3    7    7    1    7    4    6    1    0]\n",
      " [   0 1105    2    3    1    5    5    9    4    1]\n",
      " [   7    3  887   26   17    6   31   29   25    1]\n",
      " [  18    1   26  906    1   15    1   15   18    9]\n",
      " [   0    1    7    1  936    0   14    1    1   21]\n",
      " [  24    7   10   47   14  752   13    2   12   11]\n",
      " [   6    5   15    4   11   33  880    3    1    0]\n",
      " [   4    9   21    3    6    0    1  944    1   39]\n",
      " [   6   22   14   40   19   36   10   13  795   19]\n",
      " [   4   10    2   10   57   11    1   23    5  886]]\n",
      "0.9035\n"
     ]
    }
   ],
   "source": [
    "print(classification_report(test_labels,predictions))\n",
    "print(confusion_matrix(test_labels,predictions))\n",
    "print(accuracy_score(test_labels,predictions))"
   ]
  },
  {
   "cell_type": "code",
   "execution_count": null,
   "id": "b983cce3",
   "metadata": {},
   "outputs": [],
   "source": []
  }
 ],
 "metadata": {
  "kernelspec": {
   "display_name": "python3",
   "language": "python",
   "name": "python3"
  },
  "language_info": {
   "codemirror_mode": {
    "name": "ipython",
    "version": 3
   },
   "file_extension": ".py",
   "mimetype": "text/x-python",
   "name": "python",
   "nbconvert_exporter": "python",
   "pygments_lexer": "ipython3",
   "version": "3.10.9"
  },
  "vscode": {
   "interpreter": {
    "hash": "df0ff3738b574c54d7fdd1e3d72b93845a14d055a7acb5823f6b13d7c5cfe9b2"
   }
  }
 },
 "nbformat": 4,
 "nbformat_minor": 5
}
